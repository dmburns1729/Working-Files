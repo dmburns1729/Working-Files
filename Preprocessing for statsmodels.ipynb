{
 "cells": [
  {
   "cell_type": "markdown",
   "id": "b4d636c8",
   "metadata": {},
   "source": [
    "# Preprocessing for statsmodels\n"
   ]
  },
  {
   "cell_type": "markdown",
   "id": "c36b6ecf",
   "metadata": {},
   "source": [
    "In the previous lesson, we started pre-processing data for our extended example.  We stopped at the point where the pre-processing for statsmodels diverges from pre-processing for sklearn. Makes sure you complete the previous lesson before starting this one because we will pick up exactly where it left off!\n",
    "\n"
   ]
  },
  {
   "cell_type": "markdown",
   "id": "038eef7b",
   "metadata": {},
   "source": [
    "## Lesson Objectives\n",
    "By the end of this lesson, students will be able to:\n",
    "\n",
    "- Transform ColumnTransformer-processed X data back into DataFrames with correct column names and indices.\n",
    "- Add a constant column\n",
    "\n",
    "At the end of the previous lesson, we had created a column transformer.  We were informed that:\n",
    "\n",
    "- with statsmodels we will not be able to combine our column transformer and model into 1 final pipeline (like we could have done with sklearn)\n",
    "- Instead, we will use our column transformer to generate the processed X variables, which we will remake into DataFrames, and then we will use these variables for modeling.\n",
    "\n",
    "This lesson will continue the preprocessing steps:\n",
    "\n",
    "## Remaking Our DataFrame after the ColumnTransformer\n",
    "## Fit the column transformer\n",
    "Note that we are doing this as a separate step that is NOT combined in a pipeline with the model"
   ]
  },
  {
   "cell_type": "code",
   "execution_count": null,
   "id": "cca9da98",
   "metadata": {},
   "outputs": [],
   "source": [
    "## fit the col transformer\n",
    "preprocessor.fit(X_train)"
   ]
  }
 ],
 "metadata": {
  "kernelspec": {
   "display_name": "Python (dojo-env)",
   "language": "python",
   "name": "dojo-env"
  },
  "language_info": {
   "codemirror_mode": {
    "name": "ipython",
    "version": 3
   },
   "file_extension": ".py",
   "mimetype": "text/x-python",
   "name": "python",
   "nbconvert_exporter": "python",
   "pygments_lexer": "ipython3",
   "version": "3.9.15"
  },
  "toc": {
   "base_numbering": 1,
   "nav_menu": {},
   "number_sections": false,
   "sideBar": true,
   "skip_h1_title": false,
   "title_cell": "Table of Contents",
   "title_sidebar": "Contents",
   "toc_cell": false,
   "toc_position": {},
   "toc_section_display": true,
   "toc_window_display": false
  }
 },
 "nbformat": 4,
 "nbformat_minor": 5
}
