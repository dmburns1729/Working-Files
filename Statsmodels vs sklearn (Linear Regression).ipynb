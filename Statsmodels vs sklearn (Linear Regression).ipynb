{
 "cells": [
  {
   "cell_type": "markdown",
   "id": "9fa1d380",
   "metadata": {},
   "source": [
    "# Statsmodels vs sklearn (Linear Regression)"
   ]
  },
  {
   "cell_type": "markdown",
   "id": "547c76a4",
   "metadata": {},
   "source": [
    "### Lesson Objective:\n",
    "\n",
    "Identify Key Differences for Fitting an OLS Model compared to a scikit-learn LinearRegression model\n",
    "Statsmodels models work a bit differently than scikit-learn models.  Let's first briefly review the steps for a fitting a scikit-learn LinearRegression model, so that it will be easier to identify the key differences.\n",
    "\n",
    "\n",
    "\n",
    "## Review: Steps for fitting a LinearRegression in sklearn"
   ]
  },
  {
   "cell_type": "code",
   "execution_count": 2,
   "id": "2f564fb8",
   "metadata": {},
   "outputs": [],
   "source": [
    "from sklearn.linear_model import LinearRegression"
   ]
  },
  {
   "cell_type": "markdown",
   "id": "b0ce927f",
   "metadata": {},
   "source": [
    "### Instantiate the model in sklearn\n",
    "\n",
    "We would normally leave the fit_intercept as the default, but since we added the constant during pre-processing with sm.add_constant(), we will set it to \"False\" here.\n",
    "\n",
    "Note: There is NO mention of x or y in when we instantiate the model!"
   ]
  },
  {
   "cell_type": "code",
   "execution_count": 4,
   "id": "2d0db397",
   "metadata": {},
   "outputs": [],
   "source": [
    "model = LinearRegression(fit_intercept=False)"
   ]
  },
  {
   "cell_type": "markdown",
   "id": "6e4005bf",
   "metadata": {},
   "source": [
    "### Fit the model in sklearn\n",
    "\n",
    "You have done this many times with sklearn, but notice two things that you probably didn't even think about before!:\n",
    "\n",
    "1) In Sklearn, we don't save the fit step as a variable. (There is no \"variable_name =....\")\n",
    "\n",
    "2) In Sklearn, we must put x_train first, followed by y_train."
   ]
  },
  {
   "cell_type": "code",
   "execution_count": 6,
   "id": "0a3f5fb7",
   "metadata": {},
   "outputs": [
    {
     "ename": "NameError",
     "evalue": "name 'X_train_df' is not defined",
     "output_type": "error",
     "traceback": [
      "\u001b[0;31m---------------------------------------------------------------------------\u001b[0m",
      "\u001b[0;31mNameError\u001b[0m                                 Traceback (most recent call last)",
      "Cell \u001b[0;32mIn [6], line 2\u001b[0m\n\u001b[1;32m      1\u001b[0m \u001b[38;5;66;03m# fit the model \u001b[39;00m\n\u001b[0;32m----> 2\u001b[0m model\u001b[38;5;241m.\u001b[39mfit(\u001b[43mX_train_df\u001b[49m, y_train)\n",
      "\u001b[0;31mNameError\u001b[0m: name 'X_train_df' is not defined"
     ]
    }
   ],
   "source": [
    "# fit the model \n",
    "model.fit(X_train_df, y_train)"
   ]
  },
  {
   "cell_type": "code",
   "execution_count": null,
   "id": "ce537c20",
   "metadata": {},
   "outputs": [],
   "source": []
  }
 ],
 "metadata": {
  "kernelspec": {
   "display_name": "Python (dojo-env)",
   "language": "python",
   "name": "dojo-env"
  },
  "language_info": {
   "codemirror_mode": {
    "name": "ipython",
    "version": 3
   },
   "file_extension": ".py",
   "mimetype": "text/x-python",
   "name": "python",
   "nbconvert_exporter": "python",
   "pygments_lexer": "ipython3",
   "version": "3.9.15"
  },
  "toc": {
   "base_numbering": 1,
   "nav_menu": {},
   "number_sections": false,
   "sideBar": true,
   "skip_h1_title": false,
   "title_cell": "Table of Contents",
   "title_sidebar": "Contents",
   "toc_cell": false,
   "toc_position": {},
   "toc_section_display": true,
   "toc_window_display": false
  }
 },
 "nbformat": 4,
 "nbformat_minor": 5
}
