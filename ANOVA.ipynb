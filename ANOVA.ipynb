{
 "cells": [
  {
   "cell_type": "markdown",
   "id": "10e63d0e",
   "metadata": {},
   "source": [
    "# ANOVA"
   ]
  },
  {
   "cell_type": "markdown",
   "id": "c4c75a4e",
   "metadata": {},
   "source": [
    "We have explored how t-tests can be used when comparing a numerical feature between two groups, but what if we want to compare more than two groups? This lesson introduces ANOVA tests which allow us to compare more than 2 means.  \n",
    "\n",
    "## LESSON OBJECTIVES\n",
    "By the end of this lesson students will be able to:\n",
    "\n",
    "- Define an ANOVA test and when to perform it \n",
    "- Define and test the assumptions of ANOVA\n",
    "- Perform and interpret Tukey's Post Hoc Multiple Comparison Test\n",
    "\n",
    "## Analysis of Variance (ANOVA)\n",
    "When we have more than 2 groups, we can no longer perform t-tests to get our results, since t-tests can only compare 2 groups.  You may be thinking... \"couldn't we just do lots of 2-sample t-tests comparing each group against every other group?\"\n",
    "\n",
    "But the answer to that is No! We increase the chance of a Type 1 error if we perform lots of pairwise comparisons instead of testing all groups at once. \n",
    "\n",
    "Thankfully, the ANOVA is perfect for comparing more than two groups at the same time.\n",
    "\n",
    "However, because there are more than two groups to consider, the test procedure has an extra step compared to a simple t-test.\n",
    "\n",
    "First, we perform the ANOVA to determine if there are any significant differences.  Then, if we do indeed have statistical differences, we must do additional testing to determine which groups are different!\n",
    "\n",
    "- Only AFTER getting a significant result for all of the groups, can we perform pairwise tests to determine which groups are different.\n",
    "\n",
    "The result of an ANOVA test will be be the \"f-score\" or \"f-statistic\".  It is similar to the t-statistic, but applies when more than 2 means are being compared.\n",
    "\n",
    "You will also be provided with a p-value that will allow you to determine if your results are significant.\n",
    "\n",
    "The null hypothesis for ANOVA is that all group's means are the same. (There is no statistical difference between groups.)\n",
    "\n",
    "The alternate hypothesis is that there is a difference in group's means. (There is a statistical difference between groups.)\n",
    "\n",
    "Note There are more advanced versions of ANOVA, but for this lesson we will be covering a One-Way ANOVA, meaning that we have 1 variable/feature with more than 2 groups that we want to compare.\n",
    "\n",
    "## ANOVA Assumptions\n",
    "\n",
    "One Way ANOVA\n",
    "\n",
    "- Normality\n",
    "- Equal variance\n",
    "- No significant outliers\n"
   ]
  },
  {
   "cell_type": "code",
   "execution_count": 1,
   "id": "6e330af5",
   "metadata": {},
   "outputs": [],
   "source": [
    "# Question: Do different diets result in different amounts of weight loss?\n",
    "# Imports\n",
    "\n",
    "import pandas as pd\n",
    "import numpy as np\n",
    "import matplotlib.pyplot as plt\n",
    "import seaborn as sns\n",
    "import scipy.stats as stats"
   ]
  },
  {
   "cell_type": "code",
   "execution_count": 2,
   "id": "07f76ab1",
   "metadata": {},
   "outputs": [
    {
     "data": {
      "text/html": [
       "<div>\n",
       "<style scoped>\n",
       "    .dataframe tbody tr th:only-of-type {\n",
       "        vertical-align: middle;\n",
       "    }\n",
       "\n",
       "    .dataframe tbody tr th {\n",
       "        vertical-align: top;\n",
       "    }\n",
       "\n",
       "    .dataframe thead th {\n",
       "        text-align: right;\n",
       "    }\n",
       "</style>\n",
       "<table border=\"1\" class=\"dataframe\">\n",
       "  <thead>\n",
       "    <tr style=\"text-align: right;\">\n",
       "      <th></th>\n",
       "      <th>gender</th>\n",
       "      <th>Age</th>\n",
       "      <th>Height</th>\n",
       "      <th>pre.weight</th>\n",
       "      <th>Diet</th>\n",
       "      <th>weight6weeks</th>\n",
       "      <th>kg_lost</th>\n",
       "    </tr>\n",
       "  </thead>\n",
       "  <tbody>\n",
       "    <tr>\n",
       "      <th>0</th>\n",
       "      <td>0</td>\n",
       "      <td>22</td>\n",
       "      <td>159</td>\n",
       "      <td>58</td>\n",
       "      <td>1</td>\n",
       "      <td>54.2</td>\n",
       "      <td>3.8</td>\n",
       "    </tr>\n",
       "    <tr>\n",
       "      <th>1</th>\n",
       "      <td>0</td>\n",
       "      <td>46</td>\n",
       "      <td>192</td>\n",
       "      <td>60</td>\n",
       "      <td>1</td>\n",
       "      <td>54.0</td>\n",
       "      <td>6.0</td>\n",
       "    </tr>\n",
       "    <tr>\n",
       "      <th>2</th>\n",
       "      <td>0</td>\n",
       "      <td>55</td>\n",
       "      <td>170</td>\n",
       "      <td>64</td>\n",
       "      <td>1</td>\n",
       "      <td>63.3</td>\n",
       "      <td>0.7</td>\n",
       "    </tr>\n",
       "    <tr>\n",
       "      <th>3</th>\n",
       "      <td>0</td>\n",
       "      <td>33</td>\n",
       "      <td>171</td>\n",
       "      <td>64</td>\n",
       "      <td>1</td>\n",
       "      <td>61.1</td>\n",
       "      <td>2.9</td>\n",
       "    </tr>\n",
       "    <tr>\n",
       "      <th>4</th>\n",
       "      <td>0</td>\n",
       "      <td>50</td>\n",
       "      <td>170</td>\n",
       "      <td>65</td>\n",
       "      <td>1</td>\n",
       "      <td>62.2</td>\n",
       "      <td>2.8</td>\n",
       "    </tr>\n",
       "  </tbody>\n",
       "</table>\n",
       "</div>"
      ],
      "text/plain": [
       "   gender  Age  Height  pre.weight  Diet  weight6weeks  kg_lost\n",
       "0       0   22     159          58     1          54.2      3.8\n",
       "1       0   46     192          60     1          54.0      6.0\n",
       "2       0   55     170          64     1          63.3      0.7\n",
       "3       0   33     171          64     1          61.1      2.9\n",
       "4       0   50     170          65     1          62.2      2.8"
      ]
     },
     "execution_count": 2,
     "metadata": {},
     "output_type": "execute_result"
    }
   ],
   "source": [
    "# We will use this modified diets dataset originally from this repository.\n",
    "\n",
    "url = 'https://docs.google.com/spreadsheets/d/1DW-2yHUm0YhH01r_kNp9ir5CaAlo9s48dhpIx-6J-TM/gviz/tq?tqx=out:csv&sheet=Diets'\n",
    "df = pd.read_csv(url)\n",
    "df.head()"
   ]
  },
  {
   "cell_type": "code",
   "execution_count": 3,
   "id": "9c9fefe7",
   "metadata": {},
   "outputs": [
    {
     "data": {
      "image/png": "[encoded data removed]",
      "text/plain": [
       "<Figure size 640x480 with 1 Axes>"
      ]
     },
     "metadata": {},
     "output_type": "display_data"
    }
   ],
   "source": [
    "sns.barplot(data=df, x='Diet',y='kg_lost');"
   ]
  },
  {
   "cell_type": "markdown",
   "id": "9a19c804",
   "metadata": {},
   "source": [
    "## Hypothesis\n",
    "\n",
    "Null Hypothesis:  Different diets all have the same results. (the kg_lost is not significantly different between diets)\n",
    "\n",
    "Alternative Hypothesis: Different diets have different results. (the kg_lost is significantly different between diets)\n",
    "\n",
    "Using an alpha=.05\n",
    "\n",
    "Note that our hypothesis do NOT specify which groups are different, just that there is or isn't a difference when taking all three into consideration.\n",
    "\n",
    "## Separating Our Groups\n",
    "Since we will need to analyze each group separately, it is in our best interest to use a dictionary with the group names (diet number in this case) as the keys and the column for kg_lost as the values.\n",
    "\n"
   ]
  },
  {
   "cell_type": "code",
   "execution_count": 4,
   "id": "fe0c18bc",
   "metadata": {},
   "outputs": [
    {
     "data": {
      "text/plain": [
       "dict_keys([1, 2, 3])"
      ]
     },
     "execution_count": 4,
     "metadata": {},
     "output_type": "execute_result"
    }
   ],
   "source": [
    "## Create groups dictionary. There are only 3 groups, but this is even more helpful when there are many groups\n",
    "groups = {}\n",
    "## Loop through all unique categories\n",
    "for i in df['Diet'].unique():\n",
    "    ## Get series for group and rename\n",
    "    data = df.loc[df['Diet']==i,'kg_lost'].copy()\n",
    "    \n",
    "    # save into the dictionary\n",
    "    groups[i] = data\n",
    "groups.keys()"
   ]
  },
  {
   "cell_type": "code",
   "execution_count": 5,
   "id": "719123a4",
   "metadata": {},
   "outputs": [
    {
     "data": {
      "text/html": [
       "<div>\n",
       "<style scoped>\n",
       "    .dataframe tbody tr th:only-of-type {\n",
       "        vertical-align: middle;\n",
       "    }\n",
       "\n",
       "    .dataframe tbody tr th {\n",
       "        vertical-align: top;\n",
       "    }\n",
       "\n",
       "    .dataframe thead th {\n",
       "        text-align: right;\n",
       "    }\n",
       "</style>\n",
       "<table border=\"1\" class=\"dataframe\">\n",
       "  <thead>\n",
       "    <tr style=\"text-align: right;\">\n",
       "      <th></th>\n",
       "      <th>n</th>\n",
       "      <th>p</th>\n",
       "      <th>test stat</th>\n",
       "    </tr>\n",
       "  </thead>\n",
       "  <tbody>\n",
       "    <tr>\n",
       "      <th>1</th>\n",
       "      <td>26.0</td>\n",
       "      <td>0.216027</td>\n",
       "      <td>3.064706</td>\n",
       "    </tr>\n",
       "    <tr>\n",
       "      <th>2</th>\n",
       "      <td>27.0</td>\n",
       "      <td>0.841993</td>\n",
       "      <td>0.343967</td>\n",
       "    </tr>\n",
       "    <tr>\n",
       "      <th>3</th>\n",
       "      <td>27.0</td>\n",
       "      <td>0.463144</td>\n",
       "      <td>1.539436</td>\n",
       "    </tr>\n",
       "  </tbody>\n",
       "</table>\n",
       "</div>"
      ],
      "text/plain": [
       "      n         p  test stat\n",
       "1  26.0  0.216027   3.064706\n",
       "2  27.0  0.841993   0.343967\n",
       "3  27.0  0.463144   1.539436"
      ]
     },
     "execution_count": 5,
     "metadata": {},
     "output_type": "execute_result"
    }
   ],
   "source": [
    "# Testing Assumptions\n",
    "\n",
    "\n",
    "# Assumption of Normality\n",
    "\n",
    "## Running normal test on each group and confirming there are >20 in each group\n",
    "norm_results = {}\n",
    "for i, data in groups.items():\n",
    "    stat, p = stats.normaltest(data)\n",
    "    ## save the p val, test statistic, and the size of the group\n",
    "    norm_results[i] = {'n': len(data),\n",
    "                             'p':p,\n",
    "                             'test stat':stat,}\n",
    "## convert to a dataframe\n",
    "norm_results_df = pd.DataFrame(norm_results).T\n",
    "norm_results_df"
   ]
  },
  {
   "cell_type": "code",
   "execution_count": 6,
   "id": "c187d2d0",
   "metadata": {},
   "outputs": [
    {
     "data": {
      "text/html": [
       "<div>\n",
       "<style scoped>\n",
       "    .dataframe tbody tr th:only-of-type {\n",
       "        vertical-align: middle;\n",
       "    }\n",
       "\n",
       "    .dataframe tbody tr th {\n",
       "        vertical-align: top;\n",
       "    }\n",
       "\n",
       "    .dataframe thead th {\n",
       "        text-align: right;\n",
       "    }\n",
       "</style>\n",
       "<table border=\"1\" class=\"dataframe\">\n",
       "  <thead>\n",
       "    <tr style=\"text-align: right;\">\n",
       "      <th></th>\n",
       "      <th>n</th>\n",
       "      <th>p</th>\n",
       "      <th>test stat</th>\n",
       "      <th>sig</th>\n",
       "    </tr>\n",
       "  </thead>\n",
       "  <tbody>\n",
       "    <tr>\n",
       "      <th>1</th>\n",
       "      <td>26.0</td>\n",
       "      <td>0.216027</td>\n",
       "      <td>3.064706</td>\n",
       "      <td>False</td>\n",
       "    </tr>\n",
       "    <tr>\n",
       "      <th>2</th>\n",
       "      <td>27.0</td>\n",
       "      <td>0.841993</td>\n",
       "      <td>0.343967</td>\n",
       "      <td>False</td>\n",
       "    </tr>\n",
       "    <tr>\n",
       "      <th>3</th>\n",
       "      <td>27.0</td>\n",
       "      <td>0.463144</td>\n",
       "      <td>1.539436</td>\n",
       "      <td>False</td>\n",
       "    </tr>\n",
       "  </tbody>\n",
       "</table>\n",
       "</div>"
      ],
      "text/plain": [
       "      n         p  test stat    sig\n",
       "1  26.0  0.216027   3.064706  False\n",
       "2  27.0  0.841993   0.343967  False\n",
       "3  27.0  0.463144   1.539436  False"
      ]
     },
     "execution_count": 6,
     "metadata": {},
     "output_type": "execute_result"
    }
   ],
   "source": [
    "# You can just analyze the output above, but when you are working with many groups, \n",
    "# it can be helpful to use Pandas to keep you organized and ensure you don't miss anything.\n",
    "\n",
    "### checking sig with pandas \n",
    "norm_results_df['sig'] = norm_results_df['p'] < .05 \n",
    "norm_results_df"
   ]
  },
  {
   "cell_type": "markdown",
   "id": "98e89aa4",
   "metadata": {},
   "source": [
    "We confirm that each group has a normal distribution.\n",
    "\n",
    "\n",
    "\n",
    "## Testing Assumption of Equal Variance\n",
    "\n",
    "Note: the * operator is a convenient way to unpack all of the values in an iterable (lists, dictionaries, etc) as separate variables.\n",
    "By using *groups.values() below, we are saving ourselves from having to manually provide each group separately.\n",
    "\n",
    "Example:"
   ]
  },
  {
   "cell_type": "code",
   "execution_count": 7,
   "id": "465ddef5",
   "metadata": {},
   "outputs": [
    {
     "data": {
      "text/plain": [
       "LeveneResult(statistic=0.30650755802082735, pvalue=0.7369067613743494)"
      ]
     },
     "execution_count": 7,
     "metadata": {},
     "output_type": "execute_result"
    }
   ],
   "source": [
    "# not using * operator, entering each group manually\n",
    "stats.levene(groups[1],\n",
    "            groups[2],\n",
    "            groups[3])"
   ]
  },
  {
   "cell_type": "code",
   "execution_count": 8,
   "id": "c63b444c",
   "metadata": {},
   "outputs": [
    {
     "data": {
      "text/plain": [
       "LeveneResult(statistic=0.30650755802082735, pvalue=0.7369067613743494)"
      ]
     },
     "execution_count": 8,
     "metadata": {},
     "output_type": "execute_result"
    }
   ],
   "source": [
    "# with the * operator \n",
    "stats.levene(*groups.values())"
   ]
  },
  {
   "cell_type": "markdown",
   "id": "f27849ba",
   "metadata": {},
   "source": [
    "We met the assumption of equal variance.\n",
    "\n",
    "One-Way ANOVA Test\n",
    "Now that we have checked the assumptions, we will perform the test.\n",
    "\n"
   ]
  },
  {
   "cell_type": "code",
   "execution_count": 9,
   "id": "5e2ae95d",
   "metadata": {},
   "outputs": [
    {
     "data": {
      "text/plain": [
       "F_onewayResult(statistic=5.679765022955312, pvalue=0.005001924377430895)"
      ]
     },
     "execution_count": 9,
     "metadata": {},
     "output_type": "execute_result"
    }
   ],
   "source": [
    "# perform the correct hypothesis test\n",
    "# note again the use of the * operator for convenience\n",
    "result = stats.f_oneway( *groups.values())\n",
    "result"
   ]
  },
  {
   "cell_type": "markdown",
   "id": "3027a7e7",
   "metadata": {},
   "source": [
    "Oohh..a significant result! But...WHICH diets were different??\n",
    "\n",
    "- An ANOVA returns a single p-value to represent the differences between ALL groups. Now that we KNOW we have significant differences, we are allowed to perform pairwise comparisons between every group.\n",
    "    - We will not use an ordinary t-test for this, instead, we will use a test that is specifically designed to adjust each pair's p-values so that we are less likely to make a Type I error."
   ]
  },
  {
   "cell_type": "markdown",
   "id": "e77e3595",
   "metadata": {},
   "source": [
    "## Tukey's Pairwise Multiple Comparisons Test\n",
    "Tukey's test will compare every group against every other group and return a p-value for every possible combination of groups.\n",
    "\n",
    "This is the only test that we will be using that is not available in scipy.\n",
    "Instead, we will import pairwise_tukeyhsd from statsmodels"
   ]
  },
  {
   "cell_type": "code",
   "execution_count": 10,
   "id": "b4fd4129",
   "metadata": {},
   "outputs": [],
   "source": [
    "from statsmodels.stats.multicomp import pairwise_tukeyhsd\n",
    "## save the values as kg_lost and the labels to the Diet\n",
    "values = df['kg_lost']\n",
    "labels = df['Diet']"
   ]
  },
  {
   "cell_type": "code",
   "execution_count": 11,
   "id": "122e4ef6",
   "metadata": {},
   "outputs": [
    {
     "data": {
      "text/html": [
       "<table class=\"simpletable\">\n",
       "<caption>Multiple Comparison of Means - Tukey HSD, FWER=0.05</caption>\n",
       "<tr>\n",
       "  <th>group1</th> <th>group2</th> <th>meandiff</th>  <th>p-adj</th>  <th>lower</th>   <th>upper</th> <th>reject</th>\n",
       "</tr>\n",
       "<tr>\n",
       "     <td>1</td>      <td>2</td>    <td>-0.5125</td> <td>0.7204</td> <td>-2.0964</td> <td>1.0713</td>  <td>False</td>\n",
       "</tr>\n",
       "<tr>\n",
       "     <td>1</td>      <td>3</td>    <td>1.6097</td>  <td>0.0455</td> <td>0.0259</td>  <td>3.1935</td>  <td>True</td> \n",
       "</tr>\n",
       "<tr>\n",
       "     <td>2</td>      <td>3</td>    <td>2.1222</td>  <td>0.0051</td> <td>0.5534</td>   <td>3.691</td>  <td>True</td> \n",
       "</tr>\n",
       "</table>"
      ],
      "text/plain": [
       "<class 'statsmodels.iolib.table.SimpleTable'>"
      ]
     },
     "execution_count": 11,
     "metadata": {},
     "output_type": "execute_result"
    }
   ],
   "source": [
    "## perform tukey's multiple comparison test and display the summary\n",
    "tukeys_results = pairwise_tukeyhsd(values,labels)\n",
    "tukeys_results.summary()"
   ]
  },
  {
   "cell_type": "markdown",
   "id": "d7c30900",
   "metadata": {},
   "source": [
    "You can see in the summary above that there are 2 significant results.  We see that there is a significant difference in weight loss between diet 1 and 3 and between diet 2 and 3.  There is no difference between 1 and 2.\n",
    "\n",
    "Note, that this example only includes 3 groups to compare, but this summary would be much longer as the number of groups to compare increases since every pairwise combination is tested!\n",
    "\n",
    "In conclusion, our test showed that there is a significant difference in the results of diet 3 compared to the other two diets.  The amount of kilograms lost was significantly higher for those who were on diet 3.\n",
    "\n",
    "\n",
    "\n",
    "## Summary\n",
    "This lesson introduced another statistical test: ANOVA.  ANOVAs are appropriate for comparing a numeric features when more than two groups are involved.  The assumption should be checked before running the test.  With ANOVA, the test itself determines whether or not there is ANY group statistically different than another.  If you get a significant result, you must then perform a second pairwise test to determine which groups are significantly different than another."
   ]
  },
  {
   "cell_type": "code",
   "execution_count": null,
   "id": "b9b76ee3",
   "metadata": {},
   "outputs": [],
   "source": []
  }
 ],
 "metadata": {
  "kernelspec": {
   "display_name": "Python (dojo-env)",
   "language": "python",
   "name": "dojo-env"
  },
  "language_info": {
   "codemirror_mode": {
    "name": "ipython",
    "version": 3
   },
   "file_extension": ".py",
   "mimetype": "text/x-python",
   "name": "python",
   "nbconvert_exporter": "python",
   "pygments_lexer": "ipython3",
   "version": "3.9.15"
  },
  "toc": {
   "base_numbering": 1,
   "nav_menu": {},
   "number_sections": false,
   "sideBar": true,
   "skip_h1_title": false,
   "title_cell": "Table of Contents",
   "title_sidebar": "Contents",
   "toc_cell": false,
   "toc_position": {},
   "toc_section_display": true,
   "toc_window_display": false
  }
 },
 "nbformat": 4,
 "nbformat_minor": 5
}
