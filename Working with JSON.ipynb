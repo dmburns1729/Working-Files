{
 "cells": [
  {
   "cell_type": "markdown",
   "id": "b784c10d",
   "metadata": {},
   "source": [
    "# Working with JSON Files"
   ]
  },
  {
   "cell_type": "code",
   "execution_count": 1,
   "id": "05fc1a4b",
   "metadata": {},
   "outputs": [
    {
     "data": {
      "text/plain": [
       "'My test message to save to file.\\nIt is a multi-line string.'"
      ]
     },
     "execution_count": 1,
     "metadata": {},
     "output_type": "execute_result"
    }
   ],
   "source": [
    "# This is the example message we want to save as .txt\n",
    "message = \"\"\"My test message to save to file.\n",
    "It is a multi-line string.\"\"\"\n",
    "message\n"
   ]
  },
  {
   "cell_type": "code",
   "execution_count": 2,
   "id": "c711b5be",
   "metadata": {},
   "outputs": [],
   "source": [
    "# Save it to a file\n",
    "with open('example_file.txt','w') as file:\n",
    "    file.write(message)"
   ]
  },
  {
   "cell_type": "code",
   "execution_count": 4,
   "id": "ec5d58a2",
   "metadata": {},
   "outputs": [
    {
     "data": {
      "text/plain": [
       "'My test message to save to file.\\nIt is a multi-line string.'"
      ]
     },
     "execution_count": 4,
     "metadata": {},
     "output_type": "execute_result"
    }
   ],
   "source": [
    "with open('example_file.txt','r') as f:\n",
    "    loaded = f.read()\n",
    "    \n",
    "loaded"
   ]
  },
  {
   "cell_type": "markdown",
   "id": "819b0db0",
   "metadata": {},
   "source": [
    "## Opening JSON Files and using the json module\n"
   ]
  },
  {
   "cell_type": "code",
   "execution_count": 5,
   "id": "ff746ec3",
   "metadata": {},
   "outputs": [],
   "source": [
    "import json"
   ]
  },
  {
   "cell_type": "markdown",
   "id": "5cd8fbc5",
   "metadata": {},
   "source": [
    "The json module has 4 basic functions for saving and loading JSON data.\n",
    "\n",
    "The two functions that we will use regularly are designed to work with files:\n",
    "\n",
    "- json.load(file): Loads the data from a json file into a variable (dictionary of list of dictionaries).\n",
    "- json.dump(data, file): Saves the JSON-compatible data into a file.\n",
    "\n",
    "While we will not be using them regularly, there are also 2 functions for converting between a string and JSON dictionary.\n",
    "\n",
    "- json.loads: Convert an already-loaded string into a dictionary or list of dictionaries\n",
    "- json.dumps: Convert a dictionary or list of dictionaries into a string."
   ]
  },
  {
   "cell_type": "code",
   "execution_count": 6,
   "id": "db9f6b89",
   "metadata": {},
   "outputs": [
    {
     "data": {
      "text/plain": [
       "{'stack': 4,\n",
       " 'week': 2,\n",
       " 'things learned': ['MySQL',\n",
       "  'MySQL WorkBench',\n",
       "  'GitHub Desktop',\n",
       "  'Jupyter Notebooks',\n",
       "  'JSON']}"
      ]
     },
     "execution_count": 6,
     "metadata": {},
     "output_type": "execute_result"
    }
   ],
   "source": [
    "## Saving a dictionary to a JSON file\n",
    "data = {'stack':4, 'week':2, \n",
    "       'things learned':['MySQL','MySQL WorkBench',\n",
    "                         'GitHub Desktop','Jupyter Notebooks','JSON' ]}\n",
    "data"
   ]
  },
  {
   "cell_type": "code",
   "execution_count": 7,
   "id": "95a1dce9",
   "metadata": {},
   "outputs": [],
   "source": [
    "## save dict to json file with json.dump\n",
    "with open('example_saved_data.json','w') as f:\n",
    "    json.dump(data, f)"
   ]
  },
  {
   "cell_type": "code",
   "execution_count": 8,
   "id": "5b18ac9e",
   "metadata": {},
   "outputs": [
    {
     "data": {
      "text/plain": [
       "{'stack': 4,\n",
       " 'week': 2,\n",
       " 'things learned': ['MySQL',\n",
       "  'MySQL WorkBench',\n",
       "  'GitHub Desktop',\n",
       "  'Jupyter Notebooks',\n",
       "  'JSON']}"
      ]
     },
     "execution_count": 8,
     "metadata": {},
     "output_type": "execute_result"
    }
   ],
   "source": [
    "## Load saved json file back to dictionary\n",
    "with open('example_saved_data.json') as f:\n",
    "    loaded = json.load(f)\n",
    "loaded"
   ]
  },
  {
   "cell_type": "code",
   "execution_count": 9,
   "id": "7a0b54dc",
   "metadata": {},
   "outputs": [
    {
     "name": "stdout",
     "output_type": "stream",
     "text": [
      "<class 'dict'>\n"
     ]
    },
    {
     "data": {
      "text/plain": [
       "dict_keys(['stack', 'week', 'things learned'])"
      ]
     },
     "execution_count": 9,
     "metadata": {},
     "output_type": "execute_result"
    }
   ],
   "source": [
    "print(type(loaded))\n",
    "loaded.keys()"
   ]
  },
  {
   "cell_type": "code",
   "execution_count": null,
   "id": "30041a57",
   "metadata": {},
   "outputs": [],
   "source": [
    "Note: \n",
    "NOT best practice: Saving text to a new .txt file with open\n",
    "You may come across code similar to that shown below, and it will work, but it is NOT best practice!\n",
    "\n",
    "## open a connection to new file in write mode\n",
    "file = open('example_file.txt','w')\n",
    "## to save text to the open file, use write\n",
    "message = \"\"\"My test message to save to file.\n",
    "It is a multi-line string.\"\"\"\n",
    "file.write(message)copy\n",
    "The major disadvantage to this approach to opening files is that it is very easy to accidentally keep a file open which could possibly lead to data corruption of the file. To reduce this risk, you must remember to close the file!\n",
    "\n",
    "## VERY IMPORTANT: close the file!\n",
    "file.close()"
   ]
  }
 ],
 "metadata": {
  "kernelspec": {
   "display_name": "Python (dojo-env)",
   "language": "python",
   "name": "dojo-env"
  },
  "language_info": {
   "codemirror_mode": {
    "name": "ipython",
    "version": 3
   },
   "file_extension": ".py",
   "mimetype": "text/x-python",
   "name": "python",
   "nbconvert_exporter": "python",
   "pygments_lexer": "ipython3",
   "version": "3.9.15"
  },
  "toc": {
   "base_numbering": 1,
   "nav_menu": {},
   "number_sections": false,
   "sideBar": true,
   "skip_h1_title": false,
   "title_cell": "Table of Contents",
   "title_sidebar": "Contents",
   "toc_cell": false,
   "toc_position": {},
   "toc_section_display": true,
   "toc_window_display": false
  }
 },
 "nbformat": 4,
 "nbformat_minor": 5
}
