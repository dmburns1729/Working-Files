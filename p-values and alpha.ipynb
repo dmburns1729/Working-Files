{
 "cells": [
  {
   "cell_type": "markdown",
   "id": "789a1c1c",
   "metadata": {},
   "source": [
    "# p-values and alpha"
   ]
  },
  {
   "cell_type": "markdown",
   "id": "76f314e5",
   "metadata": {},
   "source": [
    "p-values and alpha\n",
    "In the previous lesson, we formally defined our test in terms of the null and alternate hypotheses. When looking for a \"difference\", we refer specifically to a \"statistical difference.\"  This lesson equips you to understand what this means and how it is determined.\n",
    "\n",
    "LESSON OBJECTIVES\n",
    "By the end of this lesson, students will be able to:\n",
    "\n",
    "Revisit type 1 and 2 errors in terms of the null and alternate hypotheses\n",
    "Define p-values and confidence intervals\n",
    "Determine/interpret if a p-value is significant based on alpha\n",
    "One important task of data scientists is to determine if outcomes are meaningful or just due to chance. We use the term \"statistical significance\" to indicate we have done a statistical test to mathematically determine our results are not just random.\n",
    "\n",
    "In statistics, we do not work with absolute certainty. Thus, we need to consider the risks of making an error and drawing the incorrect conclusions from our testing.  You have encountered these terms previously, but here we will define them in terms of statistical testing:\n",
    "\n",
    "Type 1 Error - You erroneously reject the null hypothesis when it is true. (You support the alternative hypothesis, when it is not true.)\n",
    "\n",
    "Let's say the new medicine actually has no effect.  If your test wrongly concludes that it has made a significant difference, this is a Type 1 Error.\n",
    "Let's say the individual is actually a human (not an alien), but you wrongly conclude that they must be an alien. This is a Type 1 Error.\n",
    "Type 2 Error- You erroneously fail to reject the null hypothesis when it is not true. (You do not support the alternative hypothesis when it is true.)\n",
    "\n",
    "Let's say the new medicine does actually work.  You wrongly conclude it made no difference. This is at Type 2 Error.\n",
    "Let's say the individual actually is an alien, but you wrongly conclude that they are human.  This is a Type 2 Error.\n",
    "For any test, you must consider whether a Type 1 or Type 2 Error is more problematic.  Knowing this will help you define the \"significance value\" or \"alpha level\" of your test.  \n",
    "\n",
    "\n",
    "\n",
    "Alpha Level (Significance Value)\n",
    "\n",
    "The Alpha Level is the \"significance value.\"  \n",
    "\n",
    "The mathematical understanding of alpha will make more sense when we work through an example, but this is the big picture:\n",
    "\n",
    "the higher the alpha value is, the more likely we are to reject the null hypothesis. (Increase type 1 error)\n",
    "the lower the alpha value is, the the less likely we are to reject the null hypothesis.  (Increase type 2 error)\n",
    "The most common value for alpha is 0.05. \n",
    "\n",
    "The higher the alpha level, the more likely you are to determine you have a meaningful result.  The value itself is the probability that you have erroneously rejected the null hypothesis when it is true.  For example, an alpha level of 0.05 indicates a 5% probability of making this error. (This is  considered a Type 1 error).\n",
    "\n",
    "The lower the alpha level, the less likely you are to determine you have a meaningful result. In a sense, your test is more strict. Smaller alpha levels increase the chances that you will make a Type 2 Error and \"miss\" supporting the alternate hypothesis when it it true.  \n",
    "\n",
    "It may seem strange at first, but defining this value is at the discretion of the researcher or data scientist who is designing the test.  The value of alpha can vary depending on the domain being studied.  For example,  medical researchers will likely use .05 whereas astrophysicists may use .001. \n",
    "\n",
    "Considering your data and test, you might consult a subject matter expert (SME) and/or may select the alpha value depending on how problematic type 1 and type 2 errors would be. \n",
    "\n",
    "\n",
    "\n",
    "Intro to p-values\n",
    "Now that you have stated your hypotheses and established the alpha level for your test, you will obtain what is known as a p-value.  This is a calculated value. \n",
    "\n",
    "A p-value (or “calculated probability”) is a measure of the probability that an observed difference/value could have occurred just by random chance.  The lower the p-value, the greater the statistical significance of the observed difference.\n",
    "After the p-value is calculated, it is compared to the alpha level. \n",
    "\n",
    "In simple terms:\n",
    "\n",
    "if p < \n",
    "We reject the Null Hypothesis and support/accept the Alternative Hypothesis.\n",
    "if p > \n",
    "We fail to reject the Null Hypothesis.\n",
    "\n",
    "\n",
    "Alien example\n",
    "In the previous lesson, we \n",
    "\n",
    "Defined our test\n",
    "\n",
    "Belief/suspicion that we want to test:  Is this potential alien's height a normal height for a human or is it significantly taller?\n",
    "\n",
    ": Null Hypothesis \"The potential alien's height is from the human population.\"\n",
    ": Alternate Hypothesis: \"The potential alien's height is significantly larger than the human population\"\n",
    "Set the Alpha Level\n",
    "\n",
    "For this test, we are using an alpha level of 0.05.  We will have a 5% chance of a Type 1 Error. Specifically, there is a 5% chance that if our individual is a human, we will misidentify them as an alien. \n",
    "\n",
    "\n",
    "\n",
    "Calculate the p-value\n",
    "\n",
    "To determine if the alien's height is significantly different than the height of the human population, we will compare it to the distribution of human male heights. We will determine the probability that a 78 inch tall individual is part of the population.\n",
    "\n",
    "We will then determine the p-value \n",
    "\n",
    "First, we should look at the distribution of human height to verify that it is normally distributed. While there are statistical tests for establishing if data is normally distributed, for our purposes, we will just verify visually that human height has a (very nearly) normal distribution.  You can see this in the image below.  \n",
    "\n",
    "\n",
    "Calculating the Probability with CDF\n",
    "We want to determine the  probability that someone from the human population would have a height as large as our potential alien (or greater). In other words, what % of the probability (pdf) of our distribution has a height equal to or greater than our potential alien (78 inches)?\n",
    "\n",
    "We will use the same process described in the previous lesson"
   ]
  },
  {
   "cell_type": "code",
   "execution_count": 1,
   "id": "777c3880",
   "metadata": {},
   "outputs": [],
   "source": [
    "# Imports\n",
    "\n",
    "import pandas as pd\n",
    "import numpy as np\n",
    "import matplotlib.pyplot as plt\n",
    "import seaborn as sns\n",
    "import scipy.stats as stats"
   ]
  },
  {
   "cell_type": "code",
   "execution_count": 2,
   "id": "04502169",
   "metadata": {},
   "outputs": [],
   "source": [
    "df = pd.read_csv('https://docs.google.com/spreadsheets/d/e/2PACX-1vRxp-hsw61ck9cpt5ExZIUhvSGT5zYzoUJl_7xr7YF5qZeazC8393q2taqwkDvMxVirgFDJm1WX3uAC/pub?output=csv')\n",
    "df.head()\n",
    "males = df.loc[ df['Gender'] == 'Male'].copy()\n",
    "females = df.loc[ df['Gender'] == 'Female'].copy()"
   ]
  },
  {
   "cell_type": "code",
   "execution_count": 4,
   "id": "37fe893f",
   "metadata": {},
   "outputs": [],
   "source": [
    "# Define descriptive statistics\n",
    "\n",
    "data = males['Height']\n",
    "mean = np.mean(data)\n",
    "std = np.std(data)\n",
    "min = np.min(data)\n",
    "max = np.max(data)"
   ]
  },
  {
   "cell_type": "code",
   "execution_count": 5,
   "id": "a0c02730",
   "metadata": {},
   "outputs": [],
   "source": [
    "# Define the low and high end of our range.  Since we will include anything above 78, we will set the high end as our maximum.\n",
    "\n",
    "low_end = 78\n",
    "high_end = max"
   ]
  },
  {
   "cell_type": "code",
   "execution_count": 6,
   "id": "b6abe31f",
   "metadata": {},
   "outputs": [],
   "source": [
    "# Define the range for our normal cdf using our max and min\n",
    "\n",
    "x_range = np.linspace(min, max, 1000)"
   ]
  },
  {
   "cell_type": "code",
   "execution_count": 7,
   "id": "6d5f0d06",
   "metadata": {},
   "outputs": [
    {
     "data": {
      "image/png": "[encoded data removed]",
      "text/plain": [
       "<Figure size 1200x600 with 1 Axes>"
      ]
     },
     "metadata": {},
     "output_type": "display_data"
    }
   ],
   "source": [
    "# Show the cdf plot with our range highlighted\n",
    "\n",
    "cdf = stats.norm.cdf(x_range, loc=mean, scale=std)\n",
    "fig, ax = plt.subplots(figsize=(12,6))\n",
    "sns.histplot(x=data, stat='density', cumulative = True)\n",
    "ax.plot(x_range,cdf)\n",
    "ax.axvline(low_end, color= 'black')\n",
    "ax.axvline(high_end, color ='black')\n",
    "ax.axvspan(low_end, high_end, color ='yellow', zorder = 0)\n",
    "ax.set_title('Range of Interest');"
   ]
  },
  {
   "cell_type": "markdown",
   "id": "4dac8dfa",
   "metadata": {},
   "source": [
    "## Do the calculation:\n",
    "\n",
    "Note that even though we defined a 'high_end' for the purpose of our visual, we technically want to include any value in our distribution that is greater than or equal to 78.   While we didn't need a high level of detail to conceptually understand our visual, we want to take advantage of the ability to make accurate calculations.  Therefore, we will we will get the most accurate results of \"equal to or greater than 78\" by subtracting from 1. "
   ]
  },
  {
   "cell_type": "code",
   "execution_count": 8,
   "id": "9e0fbf15",
   "metadata": {},
   "outputs": [
    {
     "data": {
      "text/plain": [
       "0.000861409975311811"
      ]
     },
     "execution_count": 8,
     "metadata": {},
     "output_type": "execute_result"
    }
   ],
   "source": [
    "## to get the probability of 78 inches OR TALLER get the cumulative sum of # the pdf up until 78\n",
    "1-stats.norm.cdf(78, loc=np.mean(data), scale= np.std(data))"
   ]
  },
  {
   "cell_type": "markdown",
   "id": "8ef03f01",
   "metadata": {},
   "source": [
    "There is a probability of .00086 (or a 0.086% chance) that a human male would have a height equal to or taller than our potential alien.\n",
    "This probability of observing this specific value is our p-value!"
   ]
  },
  {
   "cell_type": "markdown",
   "id": "06f441b8",
   "metadata": {},
   "source": [
    "### Interpreting our p-value (comparing it to alpha)\n",
    "\n",
    "- So, technically, there IS a chance that this alien is actually human (p=.0008), but its VERY unlikely.  So how unlikely is enough? What is the cutoff point?\n",
    "\n",
    "This is where our alpha level comes in! It dictates the level of significance required to reject the null hypothesis.\n",
    "\n",
    "Remember that:\n",
    "\n",
    "- if p < \n",
    "We reject the Null Hypothesis and support/accept the Alternative Hypothesis.\n",
    "- if p > \n",
    "\n",
    "We fail to reject the Null Hypothesis.\n",
    "Since we set alpha = 0.05,\n",
    "\n",
    "our p-value of .0008 is less than , so we reject the null hypothesis\n",
    "\n",
    "We determine that this individual is significantly different from the rest of the  human population and support our alternate hypothesis that he is an alien.\n",
    "\n",
    "## Summary\n",
    "This lesson started by reviewing type 1 and type 2 errors because we want to consider how these errors are relate to our study.  These considerations can be used when determining the significance level (alpha) for our test.  The most common alpha value is 0.05, but the alpha value is ultimately determined by the researcher for a given test.  As the alpha gets smaller, the likelihood of rejecting the null hypothesis and supporting your alternative goes down.  Once your alpha is established,  we will then calculate a p value. We compare the p value to the established alpha value to determine if we have a \"significant\" finding.  If our p value is less than alpha, we can reject the null hypothesis and claim to have a \"significant\" finding.  "
   ]
  },
  {
   "cell_type": "code",
   "execution_count": null,
   "id": "2f7c0d25",
   "metadata": {},
   "outputs": [],
   "source": []
  }
 ],
 "metadata": {
  "kernelspec": {
   "display_name": "Python (dojo-env)",
   "language": "python",
   "name": "dojo-env"
  },
  "language_info": {
   "codemirror_mode": {
    "name": "ipython",
    "version": 3
   },
   "file_extension": ".py",
   "mimetype": "text/x-python",
   "name": "python",
   "nbconvert_exporter": "python",
   "pygments_lexer": "ipython3",
   "version": "3.9.15"
  },
  "toc": {
   "base_numbering": 1,
   "nav_menu": {},
   "number_sections": false,
   "sideBar": true,
   "skip_h1_title": false,
   "title_cell": "Table of Contents",
   "title_sidebar": "Contents",
   "toc_cell": false,
   "toc_position": {},
   "toc_section_display": true,
   "toc_window_display": false
  }
 },
 "nbformat": 4,
 "nbformat_minor": 5
}
