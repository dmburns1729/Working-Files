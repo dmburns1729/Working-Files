{
 "cells": [
  {
   "cell_type": "markdown",
   "id": "ab520581",
   "metadata": {},
   "source": [
    "# Efficient TMDB API Calls\n",
    "\n",
    "##Learning Objectives:\n",
    "\n",
    "Plan steps in complex code\n",
    "\n",
    "Understand code snippets for making efficient TMDB API calls"
   ]
  },
  {
   "cell_type": "code",
   "execution_count": 6,
   "id": "13b47858",
   "metadata": {},
   "outputs": [
    {
     "data": {
      "text/plain": [
       "['Seattle-pizza.csv.gz',\n",
       " 'Seattle-pizza.json',\n",
       " 'final_results_NY_pizza.csv.gz',\n",
       " 'results_in_progress_NY_pizza.json']"
      ]
     },
     "execution_count": 6,
     "metadata": {},
     "output_type": "execute_result"
    }
   ],
   "source": [
    "#BEFORE THE LOOPS\n",
    "#Designate a folder\n",
    "#You will save API call data in the data folder you created for project part 1\n",
    "\n",
    "# Need to change folder path to the Project-3 not working files!\n",
    "\n",
    "import os, time,json\n",
    "import tmdbsimple as tmdb \n",
    "FOLDER = \"Data/\"\n",
    "os.makedirs(FOLDER, exist_ok=True)\n",
    "os.listdir(FOLDER)"
   ]
  },
  {
   "cell_type": "code",
   "execution_count": null,
   "id": "e16db212",
   "metadata": {},
   "outputs": [],
   "source": []
  }
 ],
 "metadata": {
  "kernelspec": {
   "display_name": "Python (dojo-env)",
   "language": "python",
   "name": "dojo-env"
  },
  "language_info": {
   "codemirror_mode": {
    "name": "ipython",
    "version": 3
   },
   "file_extension": ".py",
   "mimetype": "text/x-python",
   "name": "python",
   "nbconvert_exporter": "python",
   "pygments_lexer": "ipython3",
   "version": "3.9.15"
  },
  "toc": {
   "base_numbering": 1,
   "nav_menu": {},
   "number_sections": false,
   "sideBar": true,
   "skip_h1_title": false,
   "title_cell": "Table of Contents",
   "title_sidebar": "Contents",
   "toc_cell": false,
   "toc_position": {},
   "toc_section_display": true,
   "toc_window_display": false
  }
 },
 "nbformat": 4,
 "nbformat_minor": 5
}
