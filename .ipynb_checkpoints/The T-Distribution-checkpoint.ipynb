{
 "cells": [
  {
   "cell_type": "markdown",
   "id": "dc73f04a",
   "metadata": {},
   "source": [
    "# The T-Distribution\n",
    "## LESSON OBJECTIVES:\n",
    "By the end of this lesson, students will be able to:\n",
    "\n",
    "- Describe what a t-distribution is and how it relates to the normal distribution.\n",
    "- Define degrees of freedom and how they influence a t-distribution.\n",
    "\n",
    "\n",
    "The t-distribution is an alternative to the standard normal distribution used when the  sample size is small (n <30).  As the number of samples increases, the t-distribution becomes more and more similar to the standard normal distribution (z-distribution). \n",
    "\n",
    "Our Potential Alien - Revisited"
   ]
  },
  {
   "cell_type": "markdown",
   "id": "fb4db232",
   "metadata": {},
   "source": [
    "Previously, we have examined the probability of observing specific values compared to the \"population\" for human male heights. In reality, we will very rarely, if ever, have the ENTIRE population.\n",
    "\n",
    "For example, let's say you wanted to get the ENTIRE human populations' heights. By the time you asked/measured every single human of the billions of people in the human population, new humans have been born, some have died, and your data is now just a really big SAMPLE.  But since this is a big sample, it does a pretty good job of representing the entire population and we can use the standard normal distribution."
   ]
  },
  {
   "cell_type": "markdown",
   "id": "288a34c4",
   "metadata": {},
   "source": [
    "## But what if we only had a sample of n=10 other human heights??\n",
    "- When working with small samples (n < 30), it becomes very difficult to get a sense of the true population's distribution.  We've explored how different samples can come from the population in the lesson on \"sampling\"\n",
    "\n",
    "- If we use a normal distribution to determine our p-values, the distribution is assuming we know the POPULATION mean and standard deviation, but the mean and standard deviation from a small sample may or may NOT be a good representation of the population.  "
   ]
  },
  {
   "cell_type": "markdown",
   "id": "618fb392",
   "metadata": {},
   "source": [
    "Compare the distribution of a large sample to the distribution of a small sample above. Notice that the PDF for the large sample has a very similar shape to the histogram,  whereas the pdf does not closely align with the histogram of our small sample.\n",
    "\n",
    "In other words, the standard normal distribution is not a good fit for a small sample size.\n",
    "\n",
    "- The T-Distribution is a modified version of a Normal Distribution that was designed to change the shape of its PDF based on the size of our sample (n).\n",
    "    - The value we use to determine the shape of the T-Distribution is called the \"degrees of freedom\".\n",
    "        - Degrees of Freedom (df) = n-1\n",
    "            - 1 less than the total number of observations.\n",
    "    - So if our sample size is 10, our degrees of freedom is 9.\n",
    "\n",
    "## Degrees of Freedom\n",
    "Calculating the degrees of freedom is as simple as taking the number of samples minus one (n-1).\n",
    "\n",
    "For example, If the sample size is 10, the degrees of freedom (df) = 10-1 = 9\n",
    "\n",
    "The concept of degrees of freedom can be a bit confusing at first, but it can be helpful to consider this example:\n",
    "\n",
    "Imagine you have 10 chocolate bars for 10 people. Everyone will take turns selecting their desired candy bar from the remaining options.\n",
    "\n",
    "Person 1 has all 10 candy bar options to select from. They are free to choose from those 10 items.\n",
    "Person 2 only has 9 candy bar options, now that person 1 has removed one. Person 2 is free to choose from these 9 items, and so on.\n",
    "\n",
    "\n",
    "\n",
    "Person 9 was free to choose from the 2 remaining candy bars.\n",
    "But notice that person 10 has NO FREEDOM to choose, because there is only 1 option.\n",
    "Therefore with a n=10 people, the # of degrees of freedom was 9 (n-1).\n",
    "\n",
    "## T-Distribution vs Normal Distribution"
   ]
  },
  {
   "cell_type": "markdown",
   "id": "90dc6770",
   "metadata": {},
   "source": [
    "As we can see above, the T-Distribution has overall a very similar shape to the normal distribution, BUT the tails of the t-distribution are fatter.\n",
    "\n",
    "- In other words, the t-distribution allows for a larger probability of values appearing in the tails.\n",
    "\n",
    "        - The reason for this is to compensate for us only having a small number of values to use to calculate the mean and standard deviation for our sample.\n",
    "See the figure below for a zoom-in view of our shaded probabilities."
   ]
  },
  {
   "cell_type": "markdown",
   "id": "a5114e3f",
   "metadata": {},
   "source": [
    "- The T-Distribution recognizes that with a small sample, its unlikely that we have a great representation of all of the possible values that occur in the population.\n",
    "## Comparing Degrees of Freedom\n",
    "- As the sample size increases (and degrees of freedom), the t-distribution will move closer and closer to the shape of a normal distribution.\n",
    "    - By n=30 (df=29), the T-Distribution is basically the same as the normal distribution.\n",
    "\n",
    "## Summary\n",
    "This lesson introduced the T distribution which is used when the sample size is small.  The sample size minus 1 gives the \"degrees of freedom\".  As the sample size increases, it becomes closer to the normal distribution.  We will apply the t-distribution in our next lesson with T-tests."
   ]
  },
  {
   "cell_type": "code",
   "execution_count": null,
   "id": "21799dbf",
   "metadata": {},
   "outputs": [],
   "source": []
  }
 ],
 "metadata": {
  "kernelspec": {
   "display_name": "Python (dojo-env)",
   "language": "python",
   "name": "dojo-env"
  },
  "language_info": {
   "codemirror_mode": {
    "name": "ipython",
    "version": 3
   },
   "file_extension": ".py",
   "mimetype": "text/x-python",
   "name": "python",
   "nbconvert_exporter": "python",
   "pygments_lexer": "ipython3",
   "version": "3.9.15"
  },
  "toc": {
   "base_numbering": 1,
   "nav_menu": {},
   "number_sections": false,
   "sideBar": true,
   "skip_h1_title": false,
   "title_cell": "Table of Contents",
   "title_sidebar": "Contents",
   "toc_cell": false,
   "toc_position": {},
   "toc_section_display": true,
   "toc_window_display": false
  }
 },
 "nbformat": 4,
 "nbformat_minor": 5
}
