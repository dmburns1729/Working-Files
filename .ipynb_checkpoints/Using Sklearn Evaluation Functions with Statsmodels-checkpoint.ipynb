{
 "cells": [
  {
   "cell_type": "markdown",
   "id": "3c344984",
   "metadata": {},
   "source": [
    "# Using Sklearn Evaluation Functions with Statsmodels"
   ]
  },
  {
   "cell_type": "markdown",
   "id": "a9c86b50",
   "metadata": {},
   "source": [
    "## Lesson objectives:\n",
    "By the end of this lesson, students will be able to:\n",
    "\n",
    "- Get predictions from a statsmodels OLS\n",
    "- Use sklearn evaluation functions with statsmodels OLS\n",
    "- Format f-strings for display (without changing the values)\n",
    "\n",
    "## The OLS Summary doesn't do everything\n",
    "In the prior lessons, we demonstrated the power of a statsmodels OLS model and the informative built-in summary. \n",
    "\n",
    "You may have noticed that we have not evaluated our model on the test data yet. While the statsmodels OLS summary is very powerful, it can only report results for the training data. \n",
    "\n",
    "- In order for us to get the metrics for our test data, we will need to use the OLS result variable to get predictions for our X_test data. "
   ]
  },
  {
   "cell_type": "code",
   "execution_count": null,
   "id": "22262a68",
   "metadata": {},
   "outputs": [],
   "source": [
    "## Fit an OLS model\n",
    "model = sm.OLS(y_train,X_train_df)\n",
    "result = model.fit()\n",
    "## Use the result (not the model) to .predict\n",
    "test_preds = result.predict(X_test_df)"
   ]
  },
  {
   "cell_type": "code",
   "execution_count": null,
   "id": "cbee76dc",
   "metadata": {},
   "outputs": [],
   "source": [
    "#We can then use any of the regression metrics from sklearn.metric's module!\n",
    "# e.g. r2_score, mean_squared_error\n",
    "test_r2 = r2_score(y_test, test_preds)\n",
    "test_mse = mean_squared_error(y_test, test_preds)copy\n",
    "\n",
    "# Now that we have saved our metrics, we will want to report the scores in a clean, easy-to-read print statement. We can use f-strings to do this!\n",
    "\n",
    "print(f'The testing r-square value is {test_r2} and the testing mean squared error is {test_mse}.')copy\n"
   ]
  },
  {
   "cell_type": "markdown",
   "id": "f596216f",
   "metadata": {},
   "source": [
    "## F-strings reFresher\n",
    "\n",
    "Anytime you print a string, you have the option to use an f-string.  We want to make sure everyone is comfortable with f-strings as they are our preference for making easy to read and more easily reproducible code!\n",
    "\n",
    "You can use an f-statement to print a string that includes the value of any defined variable.\n",
    "\n",
    "- prior to the opening quotation mark, put an \"f\" to indicate this is an f-string\n",
    "- place the desired variable into curly brackets {desired variable here}\n",
    "- Continue any more of your string (In this case we show just a final period).\n",
    "- Close up that statement with the closing quotation mark,\n",
    "\n",
    "We can easily add multiple variables to a single statement:"
   ]
  },
  {
   "cell_type": "code",
   "execution_count": null,
   "id": "bb69f350",
   "metadata": {},
   "outputs": [],
   "source": [
    "print(f'The testing r-square value is {test_r2} and the testing mean squared error is {test_mse}.')"
   ]
  },
  {
   "cell_type": "markdown",
   "id": "c1a175f6",
   "metadata": {},
   "source": [
    "## Fancier F-Strings (Displaying fewer digits)\n",
    "\n",
    "We could actually round our value by using something like {round(test_r2, 2)} within our f-string, but a better approach is to just control how the value is displayed.  \n",
    "\n",
    "To control how many digits are displayed when a variable within an f-string is numeric, we can add :xf at the end of the variable where x is how many decimal places to display.  To display 2 decimal places:"
   ]
  },
  {
   "cell_type": "code",
   "execution_count": null,
   "id": "6ae973d6",
   "metadata": {},
   "outputs": [],
   "source": [
    "print(f'Our testing r-squared value is only displaying 2 decimal points and is {test_r2:.2f}.')"
   ]
  },
  {
   "cell_type": "code",
   "execution_count": null,
   "id": "f0bc0756",
   "metadata": {},
   "outputs": [],
   "source": [
    "# To display 5 decimal places:\n",
    "\n",
    "print(f'Our testing r-squared value is only displaying 5 decimal points and is {test_r2:.5f}.')"
   ]
  },
  {
   "cell_type": "markdown",
   "id": "43e4d65c",
   "metadata": {},
   "source": [
    "# More to explore\n",
    "\n",
    "See this resource for an excellent summary table of string formats: https://mkaz.blog/code/python-string-format-cookbook/  and this article for more information about string formatting:  https://thepythonguru.com/python-string-formatting/\n",
    "\n"
   ]
  },
  {
   "cell_type": "markdown",
   "id": "da48f3e5",
   "metadata": {},
   "source": [
    "## Summary\n",
    "This lesson showed you how to evaluate your statsmodels OLS for the test data using scikit-learn metrics. We also reviewed f-strings and showed you the recommended way to adjust how many decimal places are shown in your output. \n",
    "\n",
    "Using f-strings with print statements will make your code more efficient and will allow you to provide professional-looking code!  Its certainly not as professional-looking as an OLS summary, but its a start!\n",
    "\n",
    "\n",
    "\n",
    "For more information on reproducing more of the statsmodels OLS summary with scikit-learn, checking out the Optional lesson: \"Optional - Reproducing (parts of) statsmodels Summary in Sklearn\""
   ]
  },
  {
   "cell_type": "code",
   "execution_count": null,
   "id": "98798495",
   "metadata": {},
   "outputs": [],
   "source": []
  }
 ],
 "metadata": {
  "kernelspec": {
   "display_name": "Python (dojo-env)",
   "language": "python",
   "name": "dojo-env"
  },
  "language_info": {
   "codemirror_mode": {
    "name": "ipython",
    "version": 3
   },
   "file_extension": ".py",
   "mimetype": "text/x-python",
   "name": "python",
   "nbconvert_exporter": "python",
   "pygments_lexer": "ipython3",
   "version": "3.9.15"
  },
  "toc": {
   "base_numbering": 1,
   "nav_menu": {},
   "number_sections": false,
   "sideBar": true,
   "skip_h1_title": false,
   "title_cell": "Table of Contents",
   "title_sidebar": "Contents",
   "toc_cell": false,
   "toc_position": {},
   "toc_section_display": true,
   "toc_window_display": false
  }
 },
 "nbformat": 4,
 "nbformat_minor": 5
}
