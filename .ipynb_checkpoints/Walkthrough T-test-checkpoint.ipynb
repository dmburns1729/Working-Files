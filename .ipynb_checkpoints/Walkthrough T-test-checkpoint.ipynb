{
 "cells": [
  {
   "cell_type": "markdown",
   "id": "26a90835",
   "metadata": {},
   "source": [
    "# Walkthrough T-test\n"
   ]
  },
  {
   "cell_type": "markdown",
   "id": "b4d637e4",
   "metadata": {},
   "source": [
    "For our introductory example, all of our assumptions were met.  This example explores a less ideal case of performing a t-test.\n",
    "\n",
    "## Objectives:\n",
    "After this lesson, students will be able to:\n",
    "\n",
    "- Perform a t-test when assumptions are not met\n",
    "\n",
    "We will use the superhero data set.  Our question is: Do super heroes who have \"Super Strength\" weigh more than those who do not?\n",
    "\n",
    "- Null Hypothesis: There is no significant difference between the weight of superheroes with or without \"super strength\".\n",
    "- Alternate Hypothesis: There is a significant difference between the weight of superheroes who have \"super strength\" and those who do not.  \n",
    "- Significance Level (Alpha): For this test, our alpha value is 0.05. "
   ]
  },
  {
   "cell_type": "code",
   "execution_count": 1,
   "id": "c02fe190",
   "metadata": {},
   "outputs": [],
   "source": [
    "# Imports\n",
    "\n",
    "import pandas as pd\n",
    "import numpy as np\n",
    "import matplotlib.pyplot as plt\n",
    "import seaborn as sns\n",
    "import scipy.stats as stats"
   ]
  },
  {
   "cell_type": "code",
   "execution_count": 2,
   "id": "32912775",
   "metadata": {},
   "outputs": [
    {
     "data": {
      "text/html": [
       "<div>\n",
       "<style scoped>\n",
       "    .dataframe tbody tr th:only-of-type {\n",
       "        vertical-align: middle;\n",
       "    }\n",
       "\n",
       "    .dataframe tbody tr th {\n",
       "        vertical-align: top;\n",
       "    }\n",
       "\n",
       "    .dataframe thead th {\n",
       "        text-align: right;\n",
       "    }\n",
       "</style>\n",
       "<table border=\"1\" class=\"dataframe\">\n",
       "  <thead>\n",
       "    <tr style=\"text-align: right;\">\n",
       "      <th></th>\n",
       "      <th>Gender</th>\n",
       "      <th>Race</th>\n",
       "      <th>Alignment</th>\n",
       "      <th>Hair color</th>\n",
       "      <th>Eye color</th>\n",
       "      <th>Skin color</th>\n",
       "      <th>Hero</th>\n",
       "      <th>Publisher</th>\n",
       "      <th>Height</th>\n",
       "      <th>Weight</th>\n",
       "      <th>...</th>\n",
       "      <th>Weather Control</th>\n",
       "      <th>Omnipresent</th>\n",
       "      <th>Omniscient</th>\n",
       "      <th>Hair Manipulation</th>\n",
       "      <th>Nova Force</th>\n",
       "      <th>Odin Force</th>\n",
       "      <th>Phoenix Force</th>\n",
       "      <th>Intuitive aptitude</th>\n",
       "      <th>Melting</th>\n",
       "      <th>Changing Armor</th>\n",
       "    </tr>\n",
       "  </thead>\n",
       "  <tbody>\n",
       "    <tr>\n",
       "      <th>0</th>\n",
       "      <td>Male</td>\n",
       "      <td>Human</td>\n",
       "      <td>good</td>\n",
       "      <td>No Hair</td>\n",
       "      <td>yellow</td>\n",
       "      <td>Unknown</td>\n",
       "      <td>A-Bomb</td>\n",
       "      <td>Marvel Comics</td>\n",
       "      <td>203.0</td>\n",
       "      <td>441</td>\n",
       "      <td>...</td>\n",
       "      <td>False</td>\n",
       "      <td>False</td>\n",
       "      <td>False</td>\n",
       "      <td>False</td>\n",
       "      <td>False</td>\n",
       "      <td>False</td>\n",
       "      <td>False</td>\n",
       "      <td>False</td>\n",
       "      <td>False</td>\n",
       "      <td>False</td>\n",
       "    </tr>\n",
       "    <tr>\n",
       "      <th>1</th>\n",
       "      <td>Male</td>\n",
       "      <td>Icthyo Sapien</td>\n",
       "      <td>good</td>\n",
       "      <td>No Hair</td>\n",
       "      <td>blue</td>\n",
       "      <td>blue</td>\n",
       "      <td>Abe Sapien</td>\n",
       "      <td>Dark Horse Comics</td>\n",
       "      <td>191.0</td>\n",
       "      <td>65</td>\n",
       "      <td>...</td>\n",
       "      <td>False</td>\n",
       "      <td>False</td>\n",
       "      <td>False</td>\n",
       "      <td>False</td>\n",
       "      <td>False</td>\n",
       "      <td>False</td>\n",
       "      <td>False</td>\n",
       "      <td>False</td>\n",
       "      <td>False</td>\n",
       "      <td>False</td>\n",
       "    </tr>\n",
       "    <tr>\n",
       "      <th>2</th>\n",
       "      <td>Male</td>\n",
       "      <td>Ungaran</td>\n",
       "      <td>good</td>\n",
       "      <td>No Hair</td>\n",
       "      <td>blue</td>\n",
       "      <td>red</td>\n",
       "      <td>Abin Sur</td>\n",
       "      <td>DC Comics</td>\n",
       "      <td>185.0</td>\n",
       "      <td>90</td>\n",
       "      <td>...</td>\n",
       "      <td>False</td>\n",
       "      <td>False</td>\n",
       "      <td>False</td>\n",
       "      <td>False</td>\n",
       "      <td>False</td>\n",
       "      <td>False</td>\n",
       "      <td>False</td>\n",
       "      <td>False</td>\n",
       "      <td>False</td>\n",
       "      <td>False</td>\n",
       "    </tr>\n",
       "    <tr>\n",
       "      <th>3</th>\n",
       "      <td>Male</td>\n",
       "      <td>Human / Radiation</td>\n",
       "      <td>bad</td>\n",
       "      <td>No Hair</td>\n",
       "      <td>green</td>\n",
       "      <td>Unknown</td>\n",
       "      <td>Abomination</td>\n",
       "      <td>Marvel Comics</td>\n",
       "      <td>203.0</td>\n",
       "      <td>441</td>\n",
       "      <td>...</td>\n",
       "      <td>False</td>\n",
       "      <td>False</td>\n",
       "      <td>False</td>\n",
       "      <td>False</td>\n",
       "      <td>False</td>\n",
       "      <td>False</td>\n",
       "      <td>False</td>\n",
       "      <td>False</td>\n",
       "      <td>False</td>\n",
       "      <td>False</td>\n",
       "    </tr>\n",
       "    <tr>\n",
       "      <th>4</th>\n",
       "      <td>Male</td>\n",
       "      <td>Human</td>\n",
       "      <td>bad</td>\n",
       "      <td>No Hair</td>\n",
       "      <td>blue</td>\n",
       "      <td>Unknown</td>\n",
       "      <td>Absorbing Man</td>\n",
       "      <td>Marvel Comics</td>\n",
       "      <td>193.0</td>\n",
       "      <td>122</td>\n",
       "      <td>...</td>\n",
       "      <td>False</td>\n",
       "      <td>False</td>\n",
       "      <td>False</td>\n",
       "      <td>False</td>\n",
       "      <td>False</td>\n",
       "      <td>False</td>\n",
       "      <td>False</td>\n",
       "      <td>False</td>\n",
       "      <td>False</td>\n",
       "      <td>False</td>\n",
       "    </tr>\n",
       "  </tbody>\n",
       "</table>\n",
       "<p>5 rows × 178 columns</p>\n",
       "</div>"
      ],
      "text/plain": [
       "  Gender               Race Alignment Hair color Eye color Skin color  \\\n",
       "0   Male              Human      good    No Hair    yellow    Unknown   \n",
       "1   Male      Icthyo Sapien      good    No Hair      blue       blue   \n",
       "2   Male            Ungaran      good    No Hair      blue        red   \n",
       "3   Male  Human / Radiation       bad    No Hair     green    Unknown   \n",
       "4   Male              Human       bad    No Hair      blue    Unknown   \n",
       "\n",
       "            Hero          Publisher  Height  Weight  ... Weather Control  \\\n",
       "0         A-Bomb      Marvel Comics   203.0     441  ...           False   \n",
       "1     Abe Sapien  Dark Horse Comics   191.0      65  ...           False   \n",
       "2       Abin Sur          DC Comics   185.0      90  ...           False   \n",
       "3    Abomination      Marvel Comics   203.0     441  ...           False   \n",
       "4  Absorbing Man      Marvel Comics   193.0     122  ...           False   \n",
       "\n",
       "   Omnipresent  Omniscient  Hair Manipulation  Nova Force  Odin Force  \\\n",
       "0        False       False              False       False       False   \n",
       "1        False       False              False       False       False   \n",
       "2        False       False              False       False       False   \n",
       "3        False       False              False       False       False   \n",
       "4        False       False              False       False       False   \n",
       "\n",
       "   Phoenix Force  Intuitive aptitude  Melting  Changing Armor  \n",
       "0          False               False    False           False  \n",
       "1          False               False    False           False  \n",
       "2          False               False    False           False  \n",
       "3          False               False    False           False  \n",
       "4          False               False    False           False  \n",
       "\n",
       "[5 rows x 178 columns]"
      ]
     },
     "execution_count": 2,
     "metadata": {},
     "output_type": "execute_result"
    }
   ],
   "source": [
    "# Read in the data\n",
    "\n",
    "url = 'https://docs.google.com/spreadsheets/d/1EvADR_JB1Y7tQDGvu-5aBoCEPPS-Dqyca3YY_Jjakdw/gviz/tq?tqx=out:csv&sheet=Cleaned_Super_Hero'\n",
    "df = pd.read_csv(url)\n",
    "df.head()"
   ]
  },
  {
   "cell_type": "code",
   "execution_count": 3,
   "id": "e5e5132a",
   "metadata": {},
   "outputs": [
    {
     "data": {
      "text/plain": [
       "True     274\n",
       "False    189\n",
       "Name: Super Strength, dtype: int64"
      ]
     },
     "execution_count": 3,
     "metadata": {},
     "output_type": "execute_result"
    }
   ],
   "source": [
    "# Explore the data:\n",
    "\n",
    "# How many in each group?\n",
    "\n",
    "# see how many with and without strength\n",
    "df['Super Strength'].value_counts()"
   ]
  },
  {
   "cell_type": "code",
   "execution_count": 4,
   "id": "56c9bbab",
   "metadata": {},
   "outputs": [],
   "source": [
    "#Split data into two groups\n",
    "\n",
    "# Filtering out those with and without super strength\n",
    "strength_df = df.loc[df['Super Strength']== True].copy()\n",
    "no_strength_df = df.loc[df['Super Strength']== False].copy()"
   ]
  },
  {
   "cell_type": "code",
   "execution_count": 5,
   "id": "c5a5f529",
   "metadata": {},
   "outputs": [],
   "source": [
    "# Define our feature of interest\n",
    "\n",
    "strength_weight = strength_df['Weight']\n",
    "no_strength_weight = no_strength_df['Weight']"
   ]
  },
  {
   "attachments": {
    "Screen%20Shot%202023-01-12%20at%202.05.19%20PM.png": {
     "image/png": "[encoded data removed]"
    }
   },
   "cell_type": "markdown",
   "id": "1abc67f4",
   "metadata": {},
   "source": [
    "Visualize the distribution of each group\n",
    "\n",
    "![Screen%20Shot%202023-01-12%20at%202.05.19%20PM.png](attachment:Screen%20Shot%202023-01-12%20at%202.05.19%20PM.png)\n",
    "\n",
    "We can see that this data is going to be a bit more difficult to work with! \n",
    "\n",
    "## Check for and remove outliers\n",
    "\n",
    "We will check each group separately for outliers. We will start with the strength_weight group."
   ]
  },
  {
   "cell_type": "code",
   "execution_count": 6,
   "id": "b4a43239",
   "metadata": {},
   "outputs": [
    {
     "data": {
      "text/plain": [
       "6"
      ]
     },
     "execution_count": 6,
     "metadata": {},
     "output_type": "execute_result"
    }
   ],
   "source": [
    "# Check for outliers in weight for strength group\n",
    "zscores= stats.zscore(strength_weight)\n",
    "outliers = abs(zscores)>3\n",
    "np.sum(outliers)"
   ]
  },
  {
   "cell_type": "code",
   "execution_count": 7,
   "id": "2e1b680b",
   "metadata": {},
   "outputs": [],
   "source": [
    "# remove outliers from strength group\n",
    "strength_weight = strength_weight[(np.abs(stats.zscore(strength_weight)) < 3)]\n"
   ]
  },
  {
   "cell_type": "code",
   "execution_count": 8,
   "id": "f556044b",
   "metadata": {},
   "outputs": [
    {
     "data": {
      "text/plain": [
       "1"
      ]
     },
     "execution_count": 8,
     "metadata": {},
     "output_type": "execute_result"
    }
   ],
   "source": [
    "# check for outliers in weight for no strength group\n",
    "zscores= stats.zscore(no_strength_weight)\n",
    "outliers = abs(zscores)>3\n",
    "np.sum(outliers)"
   ]
  },
  {
   "cell_type": "code",
   "execution_count": 9,
   "id": "0eb113f8",
   "metadata": {},
   "outputs": [],
   "source": [
    "# We will remove the outlier from the no_strength_weight group.\n",
    "\n",
    "# remove outlier for no strength group\n",
    "no_strength_weight = no_strength_weight[(np.abs(stats.zscore(no_strength_weight)) < 3)]"
   ]
  },
  {
   "cell_type": "code",
   "execution_count": 10,
   "id": "2849471a",
   "metadata": {},
   "outputs": [
    {
     "data": {
      "text/plain": [
       "NormaltestResult(statistic=105.002416481251, pvalue=1.5813025374989877e-23)"
      ]
     },
     "execution_count": 10,
     "metadata": {},
     "output_type": "execute_result"
    }
   ],
   "source": [
    "# Check for Normality\n",
    "\n",
    "# test the strength group for normality\n",
    "result_strength_weight = stats.normaltest(strength_weight)\n",
    "result_strength_weight"
   ]
  },
  {
   "cell_type": "code",
   "execution_count": 11,
   "id": "ae69e46e",
   "metadata": {},
   "outputs": [
    {
     "data": {
      "text/plain": [
       "NormaltestResult(statistic=10.034466263303866, pvalue=0.006622825869229763)"
      ]
     },
     "execution_count": 11,
     "metadata": {},
     "output_type": "execute_result"
    }
   ],
   "source": [
    "result_no_strength_weight = stats.normaltest(no_strength_weight)\n",
    "result_no_strength_weight"
   ]
  },
  {
   "cell_type": "markdown",
   "id": "db6f8752",
   "metadata": {},
   "source": [
    "Our p-values for both group are well below 0.05 which means our data is NOT normally distributed.  However, our our sample size is large enough to proceed without satisfying this test.  For an independent t test, sample sizes of 15 per group are considered sufficient."
   ]
  },
  {
   "cell_type": "code",
   "execution_count": 12,
   "id": "e9705049",
   "metadata": {},
   "outputs": [
    {
     "data": {
      "text/plain": [
       "LeveneResult(statistic=54.1012395290633, pvalue=8.971388915444231e-13)"
      ]
     },
     "execution_count": 12,
     "metadata": {},
     "output_type": "execute_result"
    }
   ],
   "source": [
    "# Check for Equal Variance\n",
    "\n",
    "# Test for equal variance\n",
    "result = stats.levene(strength_weight, no_strength_weight)\n",
    "result"
   ]
  },
  {
   "cell_type": "markdown",
   "id": "ecf940ea",
   "metadata": {},
   "source": [
    "Looks like we don't have equal variances, but that won't stop us! We just need to be sure to include \"equal_var = False\" when we perform our t-test."
   ]
  },
  {
   "cell_type": "code",
   "execution_count": 13,
   "id": "88f3ab1a",
   "metadata": {},
   "outputs": [
    {
     "data": {
      "text/plain": [
       "Ttest_indResult(statistic=9.12425300025232, pvalue=1.0881200502443155e-17)"
      ]
     },
     "execution_count": 13,
     "metadata": {},
     "output_type": "execute_result"
    }
   ],
   "source": [
    "# Perform and evaluate the t-test\n",
    "\n",
    "# We will perform the independent t-test \n",
    "\n",
    "# Independent t-test with equal_var set to False\n",
    "result = stats.ttest_ind(strength_weight, no_strength_weight, equal_var = False)\n",
    "result"
   ]
  },
  {
   "cell_type": "markdown",
   "id": "3c7d1921",
   "metadata": {},
   "source": [
    "Our p value < alpha (0.05), so we reject the null hypothesis and accept that there is a significant difference between the weights of super heroes who have \"super strength\" and those who do not.\n",
    "\n",
    "\n",
    "\n",
    "## Summary\n",
    "This lesson worked through an example of an independent t-test where the assumptions were not met.\n",
    "\n"
   ]
  },
  {
   "cell_type": "code",
   "execution_count": null,
   "id": "2e296a9d",
   "metadata": {},
   "outputs": [],
   "source": []
  }
 ],
 "metadata": {
  "kernelspec": {
   "display_name": "Python (dojo-env)",
   "language": "python",
   "name": "dojo-env"
  },
  "language_info": {
   "codemirror_mode": {
    "name": "ipython",
    "version": 3
   },
   "file_extension": ".py",
   "mimetype": "text/x-python",
   "name": "python",
   "nbconvert_exporter": "python",
   "pygments_lexer": "ipython3",
   "version": "3.9.15"
  },
  "toc": {
   "base_numbering": 1,
   "nav_menu": {},
   "number_sections": false,
   "sideBar": true,
   "skip_h1_title": false,
   "title_cell": "Table of Contents",
   "title_sidebar": "Contents",
   "toc_cell": false,
   "toc_position": {},
   "toc_section_display": true,
   "toc_window_display": false
  }
 },
 "nbformat": 4,
 "nbformat_minor": 5
}
